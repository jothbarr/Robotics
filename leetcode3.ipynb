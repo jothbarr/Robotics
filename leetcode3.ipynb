{
 "cells": [
  {
   "cell_type": "code",
   "execution_count": null,
   "metadata": {},
   "outputs": [],
   "source": [
    "class Solution(object):\n",
    "    def getConcatenation(self, nums):\n",
    "        \"\"\"\n",
    "        :type nums: List[int]\n",
    "        :rtype: List[int]\n",
    "        \"\"\"\n",
    "        n=len(nums)\n",
    "        ans=[0]*2*n\n",
    "        for i in range(n):\n",
    "            print(i)\n",
    "            print(n)\n",
    "            ans[i]=nums[i]\n",
    "            ans[i+n]=nums[i]\n",
    "        return ans"
   ]
  },
  {
   "cell_type": "code",
   "execution_count": null,
   "metadata": {},
   "outputs": [],
   "source": [
    "sol=Solution2()\n",
    "nums =[1,3,2,1]\n",
    "sol.getConcatenation(nums)"
   ]
  },
  {
   "cell_type": "code",
   "execution_count": null,
   "metadata": {},
   "outputs": [],
   "source": [
    "class Solution2(object):\n",
    "    def getConcatenation(self, nums):\n",
    "        \"\"\"\n",
    "        :type nums: List[int]\n",
    "        :rtype: List[int]\n",
    "        \"\"\"\n",
    "        return nums+nums"
   ]
  },
  {
   "cell_type": "code",
   "execution_count": null,
   "metadata": {},
   "outputs": [],
   "source": [
    "class Solution():\n",
    "    def numIdenticalPairs(self, nums):\n",
    "        ans=0\n",
    "        for i in range(len(nums)):\n",
    "            temp1=nums[0:i+1]\n",
    "            temp2=nums[i+1:]\n",
    "            tgt=nums[i]\n",
    "            while tgt in temp2:\n",
    "                ans=ans+1\n",
    "                temp2.pop(temp2.index(tgt))\n",
    "        \n",
    "        return ans\n",
    "\n",
    "\n"
   ]
  },
  {
   "cell_type": "code",
   "execution_count": null,
   "metadata": {},
   "outputs": [],
   "source": [
    "sol=Solution()\n",
    "nums = [1,1,1,1]\n",
    "sol.numIdenticalPairs(nums)"
   ]
  },
  {
   "cell_type": "code",
   "execution_count": 97,
   "metadata": {},
   "outputs": [],
   "source": [
    "class Solution():\n",
    "    #this is correct, yes\n",
    "    def maximumUnits(self, boxTypes, truckSize):\n",
    "        itemtot=0\n",
    "        boxtot=0\n",
    "        boxTypesNew=[]\n",
    "        boxTypesNewer=[]\n",
    "        for (i,j) in boxTypes:\n",
    "            boxTypesNew.append([j,i])\n",
    "        boxTypesNew.sort(reverse=True)\n",
    "        for (i,j) in boxTypesNew:\n",
    "            boxTypesNewer.append([j,i])\n",
    "        print(boxTypesNewer)\n",
    "        for (i,j) in boxTypesNewer:\n",
    "            while boxtot+1<=truckSize and i>0:\n",
    "                boxtot=boxtot+1\n",
    "                itemtot=itemtot+j\n",
    "                i=i-1\n",
    "                print(boxtot)\n",
    "                print(itemtot)\n",
    "        return itemtot\n",
    "            \n",
    "        \n"
   ]
  },
  {
   "cell_type": "code",
   "execution_count": 98,
   "metadata": {},
   "outputs": [
    {
     "name": "stdout",
     "output_type": "stream",
     "text": [
      "[[4, 4], [3, 4], [2, 4], [5, 3], [5, 3], [4, 3], [1, 3], [4, 1], [3, 1], [2, 1]]\n",
      "1\n",
      "4\n",
      "2\n",
      "8\n",
      "3\n",
      "12\n",
      "4\n",
      "16\n",
      "5\n",
      "20\n",
      "6\n",
      "24\n",
      "7\n",
      "28\n",
      "8\n",
      "32\n",
      "9\n",
      "36\n",
      "10\n",
      "39\n",
      "11\n",
      "42\n",
      "12\n",
      "45\n",
      "13\n",
      "48\n"
     ]
    },
    {
     "data": {
      "text/plain": [
       "48"
      ]
     },
     "execution_count": 98,
     "metadata": {},
     "output_type": "execute_result"
    }
   ],
   "source": [
    "sol=Solution()\n",
    "boxTypes = [[2,1],[4,4],[3,1],[4,1],[2,4],[3,4],[1,3],[4,3],[5,3],[5,3]]\n",
    "truckSize = 13\n",
    "sol.maximumUnits(boxTypes,truckSize)"
   ]
  }
 ],
 "metadata": {
  "kernelspec": {
   "display_name": "base",
   "language": "python",
   "name": "python3"
  },
  "language_info": {
   "codemirror_mode": {
    "name": "ipython",
    "version": 3
   },
   "file_extension": ".py",
   "mimetype": "text/x-python",
   "name": "python",
   "nbconvert_exporter": "python",
   "pygments_lexer": "ipython3",
   "version": "3.8.8"
  }
 },
 "nbformat": 4,
 "nbformat_minor": 2
}
