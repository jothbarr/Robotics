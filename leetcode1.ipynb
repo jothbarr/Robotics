{
 "cells": [
  {
   "cell_type": "code",
   "execution_count": null,
   "metadata": {},
   "outputs": [],
   "source": [
    "class Solution(object):\n",
    "    def twoSum(self, nums, target):\n",
    "        \"\"\"\n",
    "        :type nums: List[int]\n",
    "        :type target: int\n",
    "        :rtype: List[int]\n",
    "        \"\"\"\n",
    "        ans=[]\n",
    "        flag=0\n",
    "        print(nums)\n",
    "        for i,dig1 in enumerate(nums):\n",
    "            for j,dig2 in enumerate(nums):\n",
    "                if i!=j:\n",
    "                    sum=dig1+dig2\n",
    "                    if sum==target:\n",
    "                        flag=1\n",
    "                        ans=[i,j]\n",
    "                        \n",
    "        if flag == 1:\n",
    "            return ans\n",
    "        else:\n",
    "            print('no answer')\n",
    "        \n",
    "        "
   ]
  },
  {
   "cell_type": "code",
   "execution_count": null,
   "metadata": {},
   "outputs": [],
   "source": [
    "test=Solution()\n",
    "test.twoSum(nums = [2,7,11,15], target = 19)"
   ]
  },
  {
   "cell_type": "code",
   "execution_count": null,
   "metadata": {},
   "outputs": [],
   "source": [
    "def two_sum(nums, target):\n",
    "    num_dict = {}\n",
    "    for i, num in enumerate(nums):\n",
    "        complement = target - num\n",
    "        if complement in num_dict:\n",
    "            return [num_dict[complement], i]\n",
    "        num_dict[num] = i\n",
    "    return None"
   ]
  },
  {
   "cell_type": "code",
   "execution_count": null,
   "metadata": {},
   "outputs": [],
   "source": [
    "nums = [2, 7, 11, 15]\n",
    "target = 9\n",
    "print(two_sum(nums, target))  # Output: [0, 1]"
   ]
  },
  {
   "cell_type": "code",
   "execution_count": null,
   "metadata": {},
   "outputs": [],
   "source": [
    "\n",
    "Output: 3\n",
    "Explanation: The answer is \"abc\", with the length of 3.\n",
    "\n",
    "Example 3:\n",
    "\n",
    "Input: s = \"pwwkew\"\n",
    "Output: 3\n",
    "Explanation: The answer is \"wke\", with the length of 3.\n",
    "Notice that the answer must be a substring, \"pwke\" is a subsequence and not a substring."
   ]
  },
  {
   "cell_type": "code",
   "execution_count": null,
   "metadata": {},
   "outputs": [],
   "source": [
    "class Solution(object):\n",
    "    def lengthOfLongestSubstring(self, s):\n",
    "        \"\"\"\n",
    "        :type s: str\n",
    "        :rtype: int\n",
    "        \"\"\"\n",
    "        tsize=0\n",
    "        temp2=''\n",
    "#Input: s = \"abcadefgbb\"\n",
    "        for ind,inv in enumerate(s):\n",
    "            temp1=''\n",
    "            se=s[ind:]\n",
    "            print(se)\n",
    "            print('temp2= {}'.format(temp2))\n",
    "\n",
    "            for i in range(0,len(se)-1):\n",
    "                char1=se[i]\n",
    "                char2=se[i+1]\n",
    "                \n",
    "                if char1==char2 or temp1.find(char1)!=-1:\n",
    "                    #checks if char1 is in temp\n",
    "                    print(char1)\n",
    "                    if len(temp1)>tsize:\n",
    "                        tsize=len(temp1)\n",
    "                        temp2=temp1\n",
    "                    temp1=''\n",
    "                    break\n",
    "                else:\n",
    "                    temp1=temp1+char1\n",
    "                    print('temp1= {}'.format(temp1))\n",
    "\n",
    "    \n",
    "        print('the longest substring is {} and its length is {}'.format(temp2,tsize))\n"
   ]
  },
  {
   "cell_type": "code",
   "execution_count": null,
   "metadata": {},
   "outputs": [],
   "source": [
    "t2=Solution()\n",
    "t2.lengthOfLongestSubstring(s = \"abcabcdefg\")"
   ]
  },
  {
   "cell_type": "code",
   "execution_count": null,
   "metadata": {},
   "outputs": [],
   "source": [
    "s='abcaaaaa'\n",
    "s.find('a')\n",
    "len(s)\n"
   ]
  },
  {
   "cell_type": "code",
   "execution_count": null,
   "metadata": {},
   "outputs": [],
   "source": [
    "def length_of_longest_substring(s):\n",
    "    n = len(s)\n",
    "    max_length = 0\n",
    "    start = 0\n",
    "    char_index_map = {}\n",
    "\n",
    "    for end in range(n):\n",
    "        if s[end] in char_index_map:\n",
    "            start = max(start, char_index_map[s[end]] + 1)\n",
    "\n",
    "        char_index_map[s[end]] = end\n",
    "        max_length = max(max_length, end - start + 1)\n",
    "\n",
    "    return max_length"
   ]
  },
  {
   "cell_type": "code",
   "execution_count": null,
   "metadata": {},
   "outputs": [],
   "source": [
    "# Test cases\n",
    "print(length_of_longest_substring(\"abcabcdefg\"))  # Output: 3\n",
    "#print(length_of_longest_substring(\"bbbbb\"))     # Output: 1\n",
    "#print(length_of_longest_substring(\"pwwkew\"))    # Output: 3"
   ]
  },
  {
   "cell_type": "code",
   "execution_count": null,
   "metadata": {},
   "outputs": [],
   "source": [
    "Given a string s of zeros and ones, return the maximum score after splitting the string into two non-empty substrings (i.e. left substring and right substring).\n",
    "\n",
    "The score after splitting a string is the number of zeros in the left substring plus the number of ones in the right substring.\n",
    "\n",
    " \n",
    "\n",
    "Example 1:\n",
    "\n",
    "Input: s = \"011101\"\n",
    "Output: 5 \n",
    "Explanation: \n",
    "All possible ways of splitting s into two non-empty substrings are:\n",
    "left = \"0\" and right = \"11101\", score = 1 + 4 = 5 \n",
    "left = \"01\" and right = \"1101\", score = 1 + 3 = 4 \n",
    "left = \"011\" and right = \"101\", score = 1 + 2 = 3 \n",
    "left = \"0111\" and right = \"01\", score = 1 + 1 = 2 \n",
    "left = \"01110\" and right = \"1\", score = 2 + 1 = 3"
   ]
  },
  {
   "cell_type": "code",
   "execution_count": null,
   "metadata": {},
   "outputs": [],
   "source": [
    "class Solution(object):\n",
    "    def maxScore(self, s):\n",
    "        if 2<=len(s)<=500:\n",
    "            score=[]\n",
    "            for ind,char in enumerate(s):\n",
    "                ls=s[0:ind+1]\n",
    "                rs=s[ind+1:]\n",
    "                if len(ls)>0 and len(rs)>0:\n",
    "                    #print(ls)\n",
    "                    #print(rs)\n",
    "                    leftscore=ls.count('0')\n",
    "                    rightscore=rs.count('1')\n",
    "                    #print(leftscore)\n",
    "                    #print(rightscore)\n",
    "                    temp=leftscore+rightscore\n",
    "                    score.append(temp)\n",
    "            return (max(score))\n",
    "        else:\n",
    "            return 'error'\n",
    "\n",
    "\n",
    "\n"
   ]
  },
  {
   "cell_type": "code",
   "execution_count": null,
   "metadata": {},
   "outputs": [],
   "source": [
    "sol=Solution()\n",
    "sol.maxScore(s='00')\n"
   ]
  },
  {
   "cell_type": "code",
   "execution_count": null,
   "metadata": {},
   "outputs": [],
   "source": [
    "I can be placed before V (5) and X (10) to make 4 and 9. \n",
    "X can be placed before L (50) and C (100) to make 40 and 90. \n",
    "C can be placed before D (500) and M (1000) to make 400 and 900.\n",
    "Given a roman numeral, convert it to an integer.\n",
    "\n",
    "Symbol       Value\n",
    "I             1\n",
    "V             5\n",
    "X             10\n",
    "L             50\n",
    "C             100\n",
    "D             500\n",
    "M             1000"
   ]
  },
  {
   "cell_type": "code",
   "execution_count": null,
   "metadata": {},
   "outputs": [],
   "source": [
    "class Solution(object):\n",
    "    def romanToInt(self, s):\n",
    "        \"\"\"\n",
    "        :type s: str\n",
    "        :rtype: int\n",
    "        \"\"\"\n",
    "        tot=0\n",
    "        pn = {'IV':4,'IX':9,'XL':40,'XC':90,'CD':400,'CM':900}\n",
    "        gn = {'I':1,'V':5,'X':10,'L':50,'C':100,'D':600,'M':1000}\n",
    "        for n,val in pn.items():\n",
    "            if s.find(str(n))>-1:\n",
    "                tot=tot+int(val)\n",
    "                s = ''.join(s.split(n))\n",
    "                print(s)\n",
    "        \n",
    "        for num in s:\n",
    "            for n,val in gn.items():\n",
    "                if num==n:\n",
    "                    tot=tot+int(val)\n",
    "        return tot         \n",
    "        \n"
   ]
  },
  {
   "cell_type": "code",
   "execution_count": null,
   "metadata": {},
   "outputs": [],
   "source": [
    "sol=Solution()\n",
    "s='III'\n",
    "sol.romanToInt(s)\n"
   ]
  },
  {
   "cell_type": "code",
   "execution_count": null,
   "metadata": {},
   "outputs": [],
   "source": [
    "s.find('I')\n",
    "s.split('I')\n"
   ]
  },
  {
   "cell_type": "code",
   "execution_count": null,
   "metadata": {},
   "outputs": [],
   "source": [
    "class Solution(object):\n",
    "    def longestCommonPrefix(self, strs):\n",
    "        \"\"\"\n",
    "        :type strs: List[str]\n",
    "        :rtype: str\n",
    "        \"\"\"\n",
    "        if \"\" in strs:\n",
    "            return ''\n",
    "        rowmain=len(strs)\n",
    "        fl=strs[0][0]\n",
    "        longest=0\n",
    "        for row,string in enumerate(strs):\n",
    "            temp=string[0]\n",
    "            if temp!=fl:\n",
    "                return ''\n",
    "            for cols,char in enumerate(string):\n",
    "                if cols>longest:\n",
    "                    longest=cols\n",
    "        ans=1\n",
    "        cols=cols+1\n",
    "        rows=len(strs)\n",
    "        mat = np.empty((rows, cols), dtype=str)\n",
    "       # print(mat)\n",
    "        for row,string in enumerate(strs):\n",
    "            for col,char in enumerate(string):\n",
    "                mat[row][col]=char\n",
    "\n",
    "        flag=0\n",
    "        for j in range(1,longest):\n",
    "            col = mat[:,j]\n",
    "            temp = col[0]\n",
    "            if not flag:\n",
    "                for i in range(1,rowmain):\n",
    "                    if col[i]==temp and i==rowmain-1:\n",
    "                        ans=ans+1\n",
    "                    elif col[i]==temp:\n",
    "                        pass\n",
    "                    elif col[i]!=temp:\n",
    "                        flag=1\n",
    "                        break\n",
    "        return strs[0][:ans]"
   ]
  },
  {
   "cell_type": "code",
   "execution_count": null,
   "metadata": {},
   "outputs": [],
   "source": [
    "import numpy as np\n",
    "sol=Solution()\n",
    "strs=[\"ab\", \"a\"]\n",
    "sol.longestCommonPrefix(strs)\n"
   ]
  },
  {
   "cell_type": "code",
   "execution_count": null,
   "metadata": {},
   "outputs": [],
   "source": [
    "ex=''\n",
    "ex1='jo'\n",
    "print(ex==ex1)\n",
    "ex."
   ]
  },
  {
   "cell_type": "code",
   "execution_count": null,
   "metadata": {},
   "outputs": [],
   "source": [
    "        flag=0\n",
    "        for j in range(col):\n",
    "            tempcol=mat[:, j]\n",
    "            templet=tempcol[0]\n",
    "            print(tempcol)\n",
    "            for i in range(rowmain):\n",
    "                while flag==0:\n",
    "                    if tempcol[i]!=templet:\n",
    "                        flag=1\n",
    "                        ans=ans-1\n",
    "                    else:\n",
    "                        pass\n",
    "                ans=ans+1\n",
    "\n",
    "            print(ans)"
   ]
  },
  {
   "cell_type": "code",
   "execution_count": null,
   "metadata": {},
   "outputs": [],
   "source": [
    "class Solution(object):\n",
    "    def longestCommonPrefix(self,strs):\n",
    "        ans=0\n",
    "        count=len(strs)\n",
    "        tstr=strs[0]\n",
    "        l=len(tstr)\n",
    "        flag=0\n",
    "        for i in range(len(strs)):\n",
    "            if l>len(strs[i]):\n",
    "                l=len(strs[i])\n",
    "                tstr=strs[i]\n",
    "                \n",
    "        for ind,char in enumerate(tstr):\n",
    "            for j in range(len(strs)):\n",
    "                print(j)\n",
    "                print(char)\n",
    "                print(strs[j][ind])\n",
    "                if char!=strs[j][ind]:\n",
    "                    flag=1\n",
    "                elif char==strs[j][ind] and flag==0 and j==count-1:\n",
    "                    ans=ans+1\n",
    "                else:\n",
    "                    pass\n",
    "        \n",
    "        return tstr[0:ans]\n",
    "\n"
   ]
  },
  {
   "cell_type": "code",
   "execution_count": null,
   "metadata": {},
   "outputs": [],
   "source": [
    "sol=Solution()\n",
    "strs=[\"dog\",\"racecar\",\"car\"]\n",
    "sol.longestCommonPrefix(strs)"
   ]
  },
  {
   "cell_type": "code",
   "execution_count": null,
   "metadata": {},
   "outputs": [],
   "source": [
    "Given a string s containing just the characters '(', ')', '{', '}', '[' and ']', determine if the input string is valid.\n",
    "\n",
    "An input string is valid if:\n",
    "\n",
    "Open brackets must be closed by the same type of brackets.\n",
    "Open brackets must be closed in the correct order.\n",
    "Every close bracket has a corresponding open bracket of the same type.\n",
    " \n",
    "\n",
    "Example 1:\n",
    "\n",
    "Input: s = \"()\"\n",
    "Output: true\n",
    "Example 2:\n",
    "\n",
    "Input: s = \"()[]{}\"\n",
    "Output: true\n",
    "\n",
    "\"([)]\" should be false\n",
    "\"{[]}\" should be true"
   ]
  },
  {
   "cell_type": "code",
   "execution_count": 1,
   "metadata": {},
   "outputs": [],
   "source": [
    "class Solution(object):\n",
    "    def isValid(self, s):\n",
    "        \"\"\"\n",
    "        :type s: str\n",
    "        :rtype: bool\n",
    "        \"\"\"\n",
    "        open='{[('\n",
    "        close='}])'\n",
    "        temp=s\n",
    "        \n",
    "        if len(s)==1 and open.find(s)>-1:\n",
    "            return True\n",
    "        elif len(s)==1 and open.find(s)==-1:\n",
    "            return False\n",
    "    \n",
    "        while len(temp)>0:\n",
    "            char=temp[0]\n",
    "            rest=temp[1::]\n",
    "            if char == '{' and rest.find('}')>-1:\n",
    "                temp2=rest.replace('}','',1)\n",
    "            elif char == '{' and rest.find('}')==-1:\n",
    "                return False\n",
    "            elif char == '[' and rest.find(']')>-1:\n",
    "                temp2=rest.replace(']','',1)\n",
    "            elif char == '[' and rest.find(']')==-1:\n",
    "                return False\n",
    "            elif char == '(' and rest.find(')')>-1:\n",
    "                temp2=rest.replace(')','',1)\n",
    "            elif char == '(' and rest.find(')')==-1:\n",
    "                return False\n",
    "            elif close.find(char):\n",
    "                return False\n",
    "            \n",
    "            temp=temp2\n",
    "        \n",
    "        return True   \n"
   ]
  },
  {
   "cell_type": "code",
   "execution_count": 8,
   "metadata": {},
   "outputs": [],
   "source": [
    "class Solution(object):\n",
    "    def isValid(self, s):\n",
    "        \"\"\"\n",
    "        :type s: str\n",
    "        :rtype: bool\n",
    "        \"\"\"\n",
    "        open='{[('\n",
    "        close='}])'\n",
    "        temp=s\n",
    "        \n",
    "        if len(s)==1 and open.find(s)>-1:\n",
    "            return True\n",
    "        elif len(s)==1 and open.find(s)==-1:\n",
    "            return False\n",
    "        \n",
    "        while len(temp)>0:\n",
    "            char=temp[0]\n",
    "            nchar=temp[1]\n",
    "            if char == '{' and nchar=='}':\n",
    "                temp2=temp.replace('{','',1)\n",
    "                temp2=temp.replace('}','',1)\n",
    "            elif char == '{' and open.find(nchar)>-1:\n",
    "                temp2=temp\n",
    "            elif char == '{' and nchar!='}':\n",
    "                return False\n",
    "            elif char == '[' and nchar==']':\n",
    "                temp2=temp.replace('[','',1)\n",
    "                temp2=temp.replace(']','',1)\n",
    "            elif char == '[' and open.find(nchar)>-1:\n",
    "                temp2=temp\n",
    "            elif char == '[' and nchar!=']':\n",
    "                return False\n",
    "            elif char == '(' and nchar==')':\n",
    "                temp2=temp.replace('(','',1)\n",
    "                temp2=temp.replace(')','',1)\n",
    "            elif char == '(' and open.find(nchar)>-1:\n",
    "                temp2=temp\n",
    "            elif char == '(' and nchar!=')':\n",
    "                return False\n",
    "            elif close.find(char):\n",
    "                return False\n",
    "            \n",
    "            temp=temp2\n",
    "        \n",
    "        return True   "
   ]
  },
  {
   "cell_type": "code",
   "execution_count": 9,
   "metadata": {},
   "outputs": [
    {
     "ename": "",
     "evalue": "",
     "output_type": "error",
     "traceback": [
      "\u001b[1;31mThe Kernel crashed while executing code in the the current cell or a previous cell. Please review the code in the cell(s) to identify a possible cause of the failure. Click <a href='https://aka.ms/vscodeJupyterKernelCrash'>here</a> for more info. View Jupyter <a href='command:jupyter.viewOutput'>log</a> for further details."
     ]
    }
   ],
   "source": [
    "sol=Solution()\n",
    "s='([)]'\n",
    "sol.isValid(s)"
   ]
  },
  {
   "cell_type": "code",
   "execution_count": null,
   "metadata": {},
   "outputs": [],
   "source": [
    "#here's some new code"
   ]
  }
 ],
 "metadata": {
  "kernelspec": {
   "display_name": "base",
   "language": "python",
   "name": "python3"
  },
  "language_info": {
   "codemirror_mode": {
    "name": "ipython",
    "version": 3
   },
   "file_extension": ".py",
   "mimetype": "text/x-python",
   "name": "python",
   "nbconvert_exporter": "python",
   "pygments_lexer": "ipython3",
   "version": "3.8.8"
  }
 },
 "nbformat": 4,
 "nbformat_minor": 2
}
