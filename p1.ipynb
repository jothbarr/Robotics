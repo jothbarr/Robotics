{
 "cells": [
  {
   "cell_type": "code",
   "execution_count": null,
   "metadata": {},
   "outputs": [],
   "source": [
    "import pandas as pd\n",
    "import matplotlib.pyplot as plt\n",
    "\n",
    "# Step 1: Read the CSV file\n",
    "df = pd.read_csv('file1.csv')\n",
    "\n",
    "# Step 2: Explore the data\n",
    "x = df[\"time\"]\n",
    "y = df[\"person1\"]\n",
    "df"
   ]
  },
  {
   "cell_type": "code",
   "execution_count": null,
   "metadata": {},
   "outputs": [],
   "source": [
    "z=df['person2']"
   ]
  },
  {
   "cell_type": "code",
   "execution_count": null,
   "metadata": {},
   "outputs": [],
   "source": [
    "# Step 3: Plot the data\n",
    "plt.plot(x,y,z)"
   ]
  },
  {
   "cell_type": "code",
   "execution_count": null,
   "metadata": {},
   "outputs": [],
   "source": [
    "#!pip install mpld3\n",
    "\n",
    "#import mpld3\n",
    "\n",
    "# Set datetime as index\n",
    "df = pd.read_csv('BF35_002_000454.csv',parse_dates=['DateTime'])\n",
    "df.set_index('DateTime', inplace=True)\n",
    "\n",
    "# Plot data\n",
    "fig, ax1 = plt.subplots(figsize=(20, 12))\n",
    "\n",
    "# Plot Pressure on primary y-axis\n",
    "ax1.plot(df.index, df['Pressure'], color='blue')\n",
    "ax1.set_xlabel('Time')\n",
    "ax1.set_ylabel('Pressure (psi)', color='blue')\n",
    "ax1.tick_params(axis='y', labelcolor='blue')\n",
    "\n",
    "# Create secondary y-axis for Length\n",
    "ax2 = ax1.twinx()\n",
    "ax2.scatter(df.index, df['length'], color='red', s=50)\n",
    "ax2.set_ylabel('Length (inches)', color='red')\n",
    "ax2.tick_params(axis='y', labelcolor='red')\n",
    "\n",
    "# Set y-axis limits for Length\n",
    "ax2.set_ylim([df['length'].min() - 0.1, df['length'].max() + 0.1])\n",
    "\n",
    "plt.title('Length and Pressure vs Time')\n",
    "#mpld3.display(fig)\n",
    "\n"
   ]
  },
  {
   "cell_type": "code",
   "execution_count": null,
   "metadata": {},
   "outputs": [],
   "source": [
    "# Set datetime as index\n",
    "df = pd.read_csv('BF33_002_000447_Burst_after_heat_treat_65C_2500_psi_for_2.5_hrs.csv',parse_dates=['DateTime'])\n",
    "df.set_index('DateTime', inplace=True)\n",
    "\n",
    "# Plot data\n",
    "fig, ax1 = plt.subplots(figsize=(20, 12))\n",
    "\n",
    "# Plot Pressure on primary y-axis\n",
    "ax1.plot(df.index, df['Pressure'], color='blue')\n",
    "ax1.set_xlabel('Time')\n",
    "ax1.set_ylabel('Pressure (psi)', color='blue')\n",
    "ax1.tick_params(axis='y', labelcolor='blue')\n",
    "\n",
    "# Add data label for max pressure\n",
    "max_pressure = df['Pressure'].max()\n",
    "max_pressure_time = df['Pressure'].idxmax()\n",
    "ax1.annotate(\"Max Pressure: {:.2f} psi\".format(max_pressure), (max_pressure_time, max_pressure), ha='center', va='bottom', fontsize=10)\n",
    "\n",
    "plt.title('Pressure vs Time')\n",
    "\n",
    "plt.title('Pressure vs Time')\n",
    "\n"
   ]
  },
  {
   "cell_type": "code",
   "execution_count": null,
   "metadata": {},
   "outputs": [],
   "source": [
    "df = pd.read_csv('BF33_002_000447_Burst_after_heat_treat_65C_2500_psi_for_2.5_hrs.csv')\n",
    "p = df[\"Pressure\"]\n",
    "fig = plt.subplots(figsize=(20, 12))\n",
    "plt.plot(p)\n",
    "print(f'max pressure is : {p.max()} which occurs at index {p.idxmax()}')\n",
    "\n"
   ]
  },
  {
   "cell_type": "code",
   "execution_count": null,
   "metadata": {},
   "outputs": [],
   "source": [
    "from tkinter import filedialog, Tk\n",
    "\n",
    "# Prompt user to select a file\n",
    "file_path = filedialog.askopenfilename()\n",
    "flag=1 #is length available?\n",
    "# print the selected file path\n",
    "\n",
    "df = pd.read_csv(file_path)\n",
    "p = df[\"Pressure\"]\n",
    "try:\n",
    "    l = df['length']\n",
    "except:\n",
    "    flag=0\n",
    "\n",
    "if flag == 1:\n",
    "    idx = list(range(len(p)))\n",
    "    fig, ax = plt.subplots(figsize=(20, 12))\n",
    "    ax.plot(idx,p)\n",
    "    ax2=ax.twinx()\n",
    "    ax2.scatter(idx,l,color='orange',s=50)\n",
    "    ax2.set_ylim([24,25.5])\n",
    "    print(f'max pressure is : {p.max()} which occurs at index {p.idxmax()}')\n",
    "else:\n",
    "    idx = list(range(len(p)))\n",
    "    fig, ax = plt.subplots(figsize=(20, 12))\n",
    "    ax.plot(idx,p)\n",
    "    print(f'max pressure is : {p.max()} which occurs at index {p.idxmax()}')\n"
   ]
  }
 ],
 "metadata": {
  "kernelspec": {
   "display_name": "base",
   "language": "python",
   "name": "python3"
  },
  "language_info": {
   "codemirror_mode": {
    "name": "ipython",
    "version": 3
   },
   "file_extension": ".py",
   "mimetype": "text/x-python",
   "name": "python",
   "nbconvert_exporter": "python",
   "pygments_lexer": "ipython3",
   "version": "3.8.8"
  }
 },
 "nbformat": 4,
 "nbformat_minor": 2
}
