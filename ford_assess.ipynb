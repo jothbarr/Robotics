{
 "cells": [
  {
   "cell_type": "code",
   "execution_count": 3,
   "metadata": {},
   "outputs": [],
   "source": [
    "#10:15 to 11:05, without checking out and checking in steps\n",
    "class Circle():\n",
    "    def __init__(self, xpos,ypos,radius):\n",
    "        self.xpos=xpos\n",
    "        self.ypos=ypos\n",
    "        self.radius=radius\n",
    "    \n",
    "    def __str__(self):\n",
    "        return f\"'\\t X: {self.xpos} Y: {self.ypos} Radius: {self.radius} \\n'\"\n",
    "\n",
    "    def isInside(self,x,y):\n",
    "        d = ((x-self.xpos)**2+((y-self.ypos))**2)**0.5\n",
    "        if self.radius==0:\n",
    "            return 2\n",
    "        elif d>self.radius:\n",
    "            return 0\n",
    "        elif d<=self.radius:\n",
    "            return 1\n",
    "    \n",
    "    def translateReturnCode(self,ans):\n",
    "        return (f'{ans}')\n"
   ]
  },
  {
   "cell_type": "code",
   "execution_count": 4,
   "metadata": {},
   "outputs": [
    {
     "name": "stdout",
     "output_type": "stream",
     "text": [
      "\n",
      "\n",
      "'\t X: 1 Y: 1 Radius: 1 \n",
      "'\n",
      "1,0.5,0.5\n",
      "1,1,1\n",
      "1,1,0.5\n",
      "0,2,-2\n",
      "0,-2,1\n",
      "\n",
      "\n",
      "'\t X: -2 Y: 1 Radius: 0.5 \n",
      "'\n",
      "0,0.5,0.5\n",
      "0,1,1\n",
      "0,1,0.5\n",
      "0,2,-2\n",
      "1,-2,1\n",
      "\n",
      "\n",
      "'\t X: 3 Y: -1 Radius: 5 \n",
      "'\n",
      "1,0.5,0.5\n",
      "1,1,1\n",
      "1,1,0.5\n",
      "1,2,-2\n",
      "0,-2,1\n",
      "\n",
      "\n",
      "'\t X: -4 Y: -2 Radius: 0 \n",
      "'\n",
      "2,0.5,0.5\n",
      "2,1,1\n",
      "2,1,0.5\n",
      "2,2,-2\n",
      "2,-2,1\n"
     ]
    }
   ],
   "source": [
    "for (x,y,r) in [(1,1,1),(-2,1,0.5),(3,-1,5),(-4,-2,0)]:\n",
    "    c=Circle(x,y,r)\n",
    "    print('\\n')\n",
    "    print(c)\n",
    "    for (x1,y1) in [(0.5,0.5),(1,1),(1,0.5),(2,-2),(-2,1)]:\n",
    "        ans=c.isInside(x1,y1)\n",
    "        temp=c.translateReturnCode(ans)\n",
    "        print(f'{temp},{x1},{y1}')"
   ]
  }
 ],
 "metadata": {
  "kernelspec": {
   "display_name": "base",
   "language": "python",
   "name": "python3"
  },
  "language_info": {
   "codemirror_mode": {
    "name": "ipython",
    "version": 3
   },
   "file_extension": ".py",
   "mimetype": "text/x-python",
   "name": "python",
   "nbconvert_exporter": "python",
   "pygments_lexer": "ipython3",
   "version": "3.8.8"
  }
 },
 "nbformat": 4,
 "nbformat_minor": 2
}
